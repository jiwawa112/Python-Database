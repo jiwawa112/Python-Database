{
 "cells": [
  {
   "cell_type": "markdown",
   "metadata": {},
   "source": [
    "### redis\n",
    "+ REmote DIctionary Server(Redis) 是一个由Salvatore Sanfilippo写的key-value存储系统。\n",
    "+ Redis是一个开源的使用ANSI C语言编写、遵守BSD协议、支持网络、可基于内存亦可持久化的日志型、Key-Value数据库，并提供多种语言的API。\n",
    "+ 它通常被称为数据结构服务器，因为值（value）可以是 字符串(String), 哈希(Hash), 列表(list), 集合(sets) 和 有序集合(sorted sets)等类型。\n",
    "\n",
    "#### Redis 简介\n",
    "+ Redis 是完全开源免费的，遵守BSD协议，是一个高性能的key-value数据库。\n",
    "\n",
    "#### Redis与其他key-value 缓存产品有以下三个特点：\n",
    "+ Redis支持数据的持久化，可以将内存中的数据保存在磁盘中，重启的时候可以再次加载进行使用。\n",
    "+ Redis不仅仅支持简单的key-value类型的数据，同时还提供list，set，zset，hash等数据结构的存储。\n",
    "+ Redis支持数据的备份，即master-slave模式的数据备份。\n",
    "\n",
    "#### Redis 优势\n",
    "+ 性能极高 – Redis能读的速度是110000次/s,写的速度是81000次/s 。\n",
    "+ 丰富的数据类型 – Redis支持二进制案例的 Strings, Lists, Hashes, Sets 及 Ordered Sets 数据类型操作。\n",
    "+ 原子性 – Redis的所有操作都是原子性的，意思就是要么成功执行要么失败完全不执行。单个操作是原子性的。多个操作也支持事务，即原子性，通过MULTI和EXEC指令包起来。\n",
    "+ 丰富的特性 – Redis还支持 publish/subscribe, 通知, key 过期等等特性。<br><br>\n",
    "\n",
    "+ Redis与其他key-value存储有什么不同？\n",
    "+ Redis有着更为复杂的数据结构并且提供对他们的原子性操作，这是一个不同于其他数据库的进化路径。Redis的数据类型都是基于基本数据结构的同时对程序员透明，无需进行额外的抽象。\n",
    "+ Redis运行在内存中但是可以持久化到磁盘，所以在对不同数据集进行高速读写时需要权衡内存，因为数据量不能大于硬件内存。在内存数据库方面的另一个优点是，相比在磁盘上相同的复杂的数据结构，在内存中操作起来非常简单，这样Redis可以做很多内部复杂性很强的事情。同时，在磁盘格式方面他们是紧凑的以追加的方式产生的，因为他们并不需要进行随机访问。\n",
    "\n",
    "#### 数据操作\n",
    "+ redis是key-value的数据，所以每个数据都是一个键值对,键的类型是字符串(键不能重复)\n",
    "+ 值的类型分为五种：\n",
    "+ 字符串string\n",
    "+ 哈希hash\n",
    "+ 列表list\n",
    "+ 集合set\n",
    "+ 有序集合zset"
   ]
  },
  {
   "cell_type": "markdown",
   "metadata": {},
   "source": [
    "#### 主从概念\n",
    "+ 一个master可以拥有多个slave,一个slave又可以拥有多个slave，形成多级服务器集群架构\n",
    "+ master用来写数据，slave用来读数据，网络的读写比例10:1\n",
    "+ 通过主从配置可以实现读写分离"
   ]
  },
  {
   "cell_type": "markdown",
   "metadata": {},
   "source": [
    "#### redis集群\n",
    " "
   ]
  }
 ],
 "metadata": {
  "kernelspec": {
   "display_name": "Python 3",
   "language": "python",
   "name": "python3"
  },
  "language_info": {
   "codemirror_mode": {
    "name": "ipython",
    "version": 3
   },
   "file_extension": ".py",
   "mimetype": "text/x-python",
   "name": "python",
   "nbconvert_exporter": "python",
   "pygments_lexer": "ipython3",
   "version": "3.7.0"
  },
  "toc": {
   "base_numbering": 1,
   "nav_menu": {},
   "number_sections": true,
   "sideBar": true,
   "skip_h1_title": false,
   "title_cell": "Table of Contents",
   "title_sidebar": "Contents",
   "toc_cell": false,
   "toc_position": {},
   "toc_section_display": true,
   "toc_window_display": false
  }
 },
 "nbformat": 4,
 "nbformat_minor": 2
}
