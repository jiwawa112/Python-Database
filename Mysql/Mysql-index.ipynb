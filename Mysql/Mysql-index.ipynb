{
 "cells": [
  {
   "cell_type": "markdown",
   "metadata": {},
   "source": [
    "### 索引\n",
    "#### 1.问题\n",
    "+ 一般的应用系统对比数据库的读写比例在10：1左右（即有10次查询操作时有1次写的操作），而且插入操作和更新操作很少出现性能问题。（遇到最多、最容易出问题的还是一些复杂的查询操作，索引查询语句的优化是重点）\n",
    "\n",
    "##### 2.解决办法\n",
    "+ 当数据库中数据量很大时，查找数据会变得很慢\n",
    "+ 优化方案：索引\n",
    "\n",
    "#### 3.索引\n",
    "+ 索引是一个特殊的文件（InnoDB数据表上的索引空间的一个组成部分），它们包含着对数据表里所有记录的引用指针。\n",
    "+ 更通俗的说，数据库索引好比是一本书前面的目录，能加快数据库的查询速度。\n",
    "\n",
    "#### 4.索引目的\n",
    "+ 索引的目的在于提高查询效率，可以类比字典，如果要查“mysql”这个单词，我们肯定需要定位到m字母，然后从下往下找到y字母，再找到剩下的sql。如果没有索引，那么你可能需要把所有单词看一遍才能找到你想要的，如果我想找到m开头的单词呢？或者ze开头的单词呢？是不是觉得如果没有索引，这个事情根本无法完成？\n",
    "\n",
    "#### 5.索引原理\n",
    "+ 除了字典，生活中随处可见索引的例子，如火车站的车次表、图书的目录等。它们的原理都是一样的，通过不断的缩小想要获得数据的范围来筛选出最终想要的结果，同时把随机的事件变成顺序的事件，也就是我们总是通过同一种查找方式来锁定数据。<br><br>\n",
    "\n",
    "+ 数据库也是一样，但显然要复杂许多，因为不仅面临着等值查询，还有范围查询(>、<、between、in)、模糊查询(like)、并集查询(or)等等。数据库应该选择怎么样的方式来应对所有的问题呢？我们回想字典的例子，能不能把数据分成段，然后分段查询呢？最简单的如果1000条数据，1到100分成第一段，101到200分成第二段，201到300分成第三段……这样查第250条数据，只要找第三段就可以了，一下子去除了90%的无效数据。但如果是1千万的记录呢，分成几段比较好？稍有算法基础的同学会想到搜索树，其平均复杂度是lgN，具有不错的查询性能。但这里我们忽略了一个关键的问题，复杂度模型是基于每次相同的操作成本来考虑的，数据库实现比较复杂，数据保存在磁盘上，而为了提高性能，每次又可以把部分数据读入内存来计算，因为我们知道访问磁盘的成本大概是访问内存的十万倍左右，所以简单的搜索树难以满足复杂的应用场景。\n",
    "\n",
    "\n",
    "#### 索引的使用\n",
    "##### 查看索引\n",
    "+ show index from 表名;\n",
    "\n",
    "##### 创建索引\n",
    "+ 如果指定字段是字符串，需要指定长度，建议长度与定义字段时长度一致<br><br>\n",
    "\n",
    "+ 字段类型如果不是字符串，可以不填写长度部分\n",
    "+ create index 索引名称 on 表名(字段名称(长度))\n",
    "\n",
    "##### 删除索引\n",
    "+ drop index 索引名称 on 表名\n",
    "\n",
    "#### 查询\n",
    "+ 开启运行时间检测\n",
    "+ set profiling=1;<br><br>\n",
    "\n",
    "+ 查找第1万条数据ha-99999\n",
    "+ select * from test_index where title='ha-99999';<br><br>\n",
    "\n",
    "+ 查看执行时间:\n",
    "+ show profiles;<br><br>\n",
    "\n",
    "+ 为表title_index的title列创建索引\n",
    "+ create index title_index on test_index(title(10));<br><br>\n",
    "\n",
    "+ 执行查询语句\n",
    "+ select * from test_index where title='ha-99999';<br><br>\n",
    "\n",
    "+ 再次查看执行时间\n",
    "+ show profiles;"
   ]
  }
 ],
 "metadata": {
  "kernelspec": {
   "display_name": "Python 3",
   "language": "python",
   "name": "python3"
  },
  "language_info": {
   "codemirror_mode": {
    "name": "ipython",
    "version": 3
   },
   "file_extension": ".py",
   "mimetype": "text/x-python",
   "name": "python",
   "nbconvert_exporter": "python",
   "pygments_lexer": "ipython3",
   "version": "3.7.0"
  },
  "toc": {
   "base_numbering": 1,
   "nav_menu": {},
   "number_sections": true,
   "sideBar": true,
   "skip_h1_title": false,
   "title_cell": "Table of Contents",
   "title_sidebar": "Contents",
   "toc_cell": false,
   "toc_position": {},
   "toc_section_display": true,
   "toc_window_display": false
  }
 },
 "nbformat": 4,
 "nbformat_minor": 2
}
